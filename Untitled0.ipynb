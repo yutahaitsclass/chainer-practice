{
  "nbformat": 4,
  "nbformat_minor": 0,
  "metadata": {
    "colab": {
      "name": "Untitled0.ipynb",
      "version": "0.3.2",
      "provenance": [],
      "collapsed_sections": []
    },
    "kernelspec": {
      "name": "python3",
      "display_name": "Python 3"
    }
  },
  "cells": [
    {
      "cell_type": "code",
      "metadata": {
        "id": "pfr6mGU4whUS",
        "colab_type": "code",
        "colab": {}
      },
      "source": [
        "import chainer"
      ],
      "execution_count": 0,
      "outputs": []
    },
    {
      "cell_type": "code",
      "metadata": {
        "id": "Yqd3_s6ELofi",
        "colab_type": "code",
        "colab": {}
      },
      "source": [
        ""
      ],
      "execution_count": 0,
      "outputs": []
    },
    {
      "cell_type": "code",
      "metadata": {
        "id": "VriG_jQIwolU",
        "colab_type": "code",
        "outputId": "49170bee-d30f-4d7b-e22d-82381b15cc78",
        "colab": {
          "base_uri": "https://localhost:8080/",
          "height": 110
        }
      },
      "source": [
        "chainer.print_runtime_info()"
      ],
      "execution_count": 0,
      "outputs": [
        {
          "output_type": "stream",
          "text": [
            "Platform: Linux-4.14.79+-x86_64-with-Ubuntu-18.04-bionic\n",
            "Chainer: 5.4.0\n",
            "NumPy: 1.16.3\n",
            "CuPy: Not Available\n",
            "iDeep: 2.0.0.post3\n"
          ],
          "name": "stdout"
        }
      ]
    },
    {
      "cell_type": "code",
      "metadata": {
        "id": "Uy1t42Fubs37",
        "colab_type": "code",
        "colab": {}
      },
      "source": [
        "from sklearn.datasets import load_iris"
      ],
      "execution_count": 0,
      "outputs": []
    },
    {
      "cell_type": "code",
      "metadata": {
        "id": "ZjGVTvIRbwI7",
        "colab_type": "code",
        "outputId": "6c37ae8d-9db0-4e77-90b9-d6551cef246d",
        "colab": {
          "base_uri": "https://localhost:8080/",
          "height": 54
        }
      },
      "source": [
        "x, t = load_iris(return_X_y=True)\n",
        "\n",
        "print('x:', x.shape)\n",
        "print('t:', t.shape)"
      ],
      "execution_count": 0,
      "outputs": [
        {
          "output_type": "stream",
          "text": [
            "x: (150, 4)\n",
            "t: (150,)\n"
          ],
          "name": "stdout"
        }
      ]
    },
    {
      "cell_type": "code",
      "metadata": {
        "id": "IN7HYp0xbx8S",
        "colab_type": "code",
        "colab": {}
      },
      "source": [
        "\n",
        "# それぞれデータ型を変換\n",
        "x = x.astype('float32')\n",
        "t = t.astype('int32')"
      ],
      "execution_count": 0,
      "outputs": []
    },
    {
      "cell_type": "code",
      "metadata": {
        "id": "bfCdCa1pb2ld",
        "colab_type": "code",
        "colab": {}
      },
      "source": [
        "from sklearn.model_selection import train_test_split\n",
        "\n",
        "x_train_val, x_test, t_train_val, t_test = train_test_split(x, t, test_size=0.3, random_state=0)"
      ],
      "execution_count": 0,
      "outputs": []
    },
    {
      "cell_type": "code",
      "metadata": {
        "id": "25cMYs9hb8i2",
        "colab_type": "code",
        "colab": {}
      },
      "source": [
        "import chainer.links as L\n",
        "import chainer.functions as F"
      ],
      "execution_count": 0,
      "outputs": []
    },
    {
      "cell_type": "code",
      "metadata": {
        "id": "l4tr5EgGcA56",
        "colab_type": "code",
        "colab": {}
      },
      "source": [
        "# 入力次元数が 3、出力次元数が 2 の全結合層\n",
        "l = L.Linear(3, 2)"
      ],
      "execution_count": 0,
      "outputs": []
    },
    {
      "cell_type": "code",
      "metadata": {
        "id": "6Aiwvuv0cVGR",
        "colab_type": "code",
        "colab": {}
      },
      "source": [
        "\n",
        "from chainer import Sequential\n",
        "\n",
        "# net としてインスタンス化\n",
        "n_input = 4\n",
        "n_hidden = 6\n",
        "n_output = 3\n",
        "\n",
        "net = Sequential(\n",
        "    L.Linear(n_input, n_hidden), F.relu,\n",
        "    L.Linear(n_hidden, n_hidden), F.relu,\n",
        "    L.Linear(n_hidden, n_output)\n",
        ")"
      ],
      "execution_count": 0,
      "outputs": []
    },
    {
      "cell_type": "code",
      "metadata": {
        "id": "7rsVzDCkcW34",
        "colab_type": "code",
        "colab": {}
      },
      "source": [
        "\n",
        "optimizer = chainer.optimizers.SGD(lr=0.05)"
      ],
      "execution_count": 0,
      "outputs": []
    },
    {
      "cell_type": "code",
      "metadata": {
        "id": "1v6zWtGTcbH0",
        "colab_type": "code",
        "outputId": "eb2a4d86-76bb-440d-fef8-3b6f47e0dce2",
        "colab": {
          "base_uri": "https://localhost:8080/",
          "height": 36
        }
      },
      "source": [
        "optimizer.setup(net)"
      ],
      "execution_count": 0,
      "outputs": [
        {
          "output_type": "execute_result",
          "data": {
            "text/plain": [
              "<chainer.optimizers.sgd.SGD at 0x7f28885f5048>"
            ]
          },
          "metadata": {
            "tags": []
          },
          "execution_count": 13
        }
      ]
    },
    {
      "cell_type": "code",
      "metadata": {
        "id": "UqH0Vzdwcdpq",
        "colab_type": "code",
        "colab": {}
      },
      "source": [
        "n_epoch = 30\n",
        "n_batchsize = 16"
      ],
      "execution_count": 0,
      "outputs": []
    },
    {
      "cell_type": "code",
      "metadata": {
        "id": "6gMpvARkcgSA",
        "colab_type": "code",
        "colab": {}
      },
      "source": [
        "import numpy as np"
      ],
      "execution_count": 0,
      "outputs": []
    },
    {
      "cell_type": "code",
      "metadata": {
        "id": "Fao9hqPFcm3_",
        "colab_type": "code",
        "outputId": "a67430f5-be46-4d0f-af3a-4a30a8b71f12",
        "colab": {
          "base_uri": "https://localhost:8080/",
          "height": 577
        }
      },
      "source": [
        "\n",
        "iteration = 0\n",
        "\n",
        "# ログの保存用\n",
        "results_train = {\n",
        "    'loss': [],\n",
        "    'accuracy': []\n",
        "}\n",
        "results_valid = {\n",
        "    'loss': [],\n",
        "    'accuracy': []\n",
        "}\n",
        "\n",
        "\n",
        "for epoch in range(n_epoch):\n",
        "\n",
        "    # データセット並べ替えた順番を取得\n",
        "    order = np.random.permutation(range(len(x_train)))\n",
        "\n",
        "    # 各バッチ毎の目的関数の出力と分類精度の保存用\n",
        "    loss_list = []\n",
        "    accuracy_list = []\n",
        "\n",
        "    for i in range(0, len(order), n_batchsize):\n",
        "        # バッチを準備\n",
        "        index = order[i:i+n_batchsize]\n",
        "        x_train_batch = x_train[index,:]\n",
        "        t_train_batch = t_train[index]\n",
        "\n",
        "        # 予測値を出力\n",
        "        y_train_batch = net(x_train_batch)\n",
        "\n",
        "        # 目的関数を適用し、分類精度を計算\n",
        "        loss_train_batch = F.softmax_cross_entropy(y_train_batch, t_train_batch)\n",
        "        accuracy_train_batch = F.accuracy(y_train_batch, t_train_batch)\n",
        "\n",
        "        loss_list.append(loss_train_batch.array)\n",
        "        accuracy_list.append(accuracy_train_batch.array)\n",
        "\n",
        "        # 勾配のリセットと勾配の計算\n",
        "        net.cleargrads()\n",
        "        loss_train_batch.backward()\n",
        "\n",
        "        # パラメータの更新\n",
        "        optimizer.update()\n",
        "\n",
        "        # カウントアップ\n",
        "        iteration += 1\n",
        "\n",
        "    # 訓練データに対する目的関数の出力と分類精度を集計\n",
        "    loss_train = np.mean(loss_list)\n",
        "    accuracy_train = np.mean(accuracy_list)\n",
        "\n",
        "    # 1エポック終えたら、検証データで評価\n",
        "    # 検証データで予測値を出力\n",
        "    with chainer.using_config('train', False), chainer.using_config('enable_backprop', False):\n",
        "        y_val = net(x_val)\n",
        "\n",
        "    # 目的関数を適用し、分類精度を計算\n",
        "    loss_val = F.softmax_cross_entropy(y_val, t_val)\n",
        "    accuracy_val = F.accuracy(y_val, t_val)\n",
        "\n",
        "    # 結果の表示\n",
        "    print('epoch: {}, iteration: {}, loss (train): {:.4f}, loss (valid): {:.4f}'.format(\n",
        "        epoch, iteration, loss_train, loss_val.array))\n",
        "\n",
        "    # ログを保存\n",
        "    results_train['loss'] .append(loss_train)\n",
        "    results_train['accuracy'] .append(accuracy_train)\n",
        "    results_valid['loss'].append(loss_val.array)\n",
        "    results_valid['accuracy'].append(accuracy_val.array)"
      ],
      "execution_count": 0,
      "outputs": [
        {
          "output_type": "stream",
          "text": [
            "epoch: 0, iteration: 5, loss (train): 1.4687, loss (valid): 1.1363\n",
            "epoch: 1, iteration: 10, loss (train): 0.9780, loss (valid): 1.0257\n",
            "epoch: 2, iteration: 15, loss (train): 0.9396, loss (valid): 0.9904\n",
            "epoch: 3, iteration: 20, loss (train): 0.8787, loss (valid): 0.9682\n",
            "epoch: 4, iteration: 25, loss (train): 0.9199, loss (valid): 0.8811\n",
            "epoch: 5, iteration: 30, loss (train): 0.7931, loss (valid): 0.8794\n",
            "epoch: 6, iteration: 35, loss (train): 0.7649, loss (valid): 0.8404\n",
            "epoch: 7, iteration: 40, loss (train): 0.7853, loss (valid): 0.8106\n",
            "epoch: 8, iteration: 45, loss (train): 0.7264, loss (valid): 0.7703\n",
            "epoch: 9, iteration: 50, loss (train): 0.7144, loss (valid): 0.7968\n",
            "epoch: 10, iteration: 55, loss (train): 0.7429, loss (valid): 0.7392\n",
            "epoch: 11, iteration: 60, loss (train): 0.7199, loss (valid): 0.6990\n",
            "epoch: 12, iteration: 65, loss (train): 0.6663, loss (valid): 0.6645\n",
            "epoch: 13, iteration: 70, loss (train): 0.6321, loss (valid): 0.6577\n",
            "epoch: 14, iteration: 75, loss (train): 0.6123, loss (valid): 0.6142\n",
            "epoch: 15, iteration: 80, loss (train): 0.5903, loss (valid): 0.6604\n",
            "epoch: 16, iteration: 85, loss (train): 0.6045, loss (valid): 0.5084\n",
            "epoch: 17, iteration: 90, loss (train): 0.6342, loss (valid): 0.4665\n",
            "epoch: 18, iteration: 95, loss (train): 0.5226, loss (valid): 0.4849\n",
            "epoch: 19, iteration: 100, loss (train): 0.5364, loss (valid): 0.4247\n",
            "epoch: 20, iteration: 105, loss (train): 0.5919, loss (valid): 0.5940\n",
            "epoch: 21, iteration: 110, loss (train): 0.4795, loss (valid): 0.3663\n",
            "epoch: 22, iteration: 115, loss (train): 0.4337, loss (valid): 0.4622\n",
            "epoch: 23, iteration: 120, loss (train): 0.4396, loss (valid): 0.4128\n",
            "epoch: 24, iteration: 125, loss (train): 0.4378, loss (valid): 0.3163\n",
            "epoch: 25, iteration: 130, loss (train): 0.3574, loss (valid): 0.3121\n",
            "epoch: 26, iteration: 135, loss (train): 0.3618, loss (valid): 0.2898\n",
            "epoch: 27, iteration: 140, loss (train): 0.5784, loss (valid): 0.2745\n",
            "epoch: 28, iteration: 145, loss (train): 0.4521, loss (valid): 0.4961\n",
            "epoch: 29, iteration: 150, loss (train): 0.4311, loss (valid): 0.3977\n"
          ],
          "name": "stdout"
        }
      ]
    },
    {
      "cell_type": "code",
      "metadata": {
        "id": "3opfrUeTcwbw",
        "colab_type": "code",
        "colab": {}
      },
      "source": [
        "%matplotlib inline\n",
        "import matplotlib.pyplot as plt"
      ],
      "execution_count": 0,
      "outputs": []
    },
    {
      "cell_type": "code",
      "metadata": {
        "id": "GeYKwZzFc0Vx",
        "colab_type": "code",
        "outputId": "32f20dba-9fb2-491c-96f2-989e5d2cd58f",
        "colab": {
          "base_uri": "https://localhost:8080/",
          "height": 288
        }
      },
      "source": [
        "\n",
        "# 目的関数の出力 (loss)\n",
        "plt.plot(results_train['loss'], label='train')  # label で凡例の設定\n",
        "plt.plot(results_valid['loss'], label='valid')  # label で凡例の設定\n",
        "plt.legend()  # 凡例の表示"
      ],
      "execution_count": 0,
      "outputs": [
        {
          "output_type": "execute_result",
          "data": {
            "text/plain": [
              "<matplotlib.legend.Legend at 0x7f28885ee860>"
            ]
          },
          "metadata": {
            "tags": []
          },
          "execution_count": 18
        },
        {
          "output_type": "display_data",
          "data": {
            "image/png": "[encoded data removed]",
            "text/plain": [
              "<Figure size 432x288 with 1 Axes>"
            ]
          },
          "metadata": {
            "tags": []
          }
        }
      ]
    },
    {
      "cell_type": "code",
      "metadata": {
        "id": "uEzS3Fn2c1qv",
        "colab_type": "code",
        "outputId": "3e56094d-48ab-424d-eea3-11172bb25650",
        "colab": {
          "base_uri": "https://localhost:8080/",
          "height": 288
        }
      },
      "source": [
        "# 分類精度 (accuracy)\n",
        "plt.plot(results_train['accuracy'], label='train')  # label で凡例の設定\n",
        "plt.plot(results_valid['accuracy'], label='valid')  # label で凡例の設定\n",
        "plt.legend()  # 凡例の表示"
      ],
      "execution_count": 0,
      "outputs": [
        {
          "output_type": "execute_result",
          "data": {
            "text/plain": [
              "<matplotlib.legend.Legend at 0x7f2885d1a400>"
            ]
          },
          "metadata": {
            "tags": []
          },
          "execution_count": 19
        },
        {
          "output_type": "display_data",
          "data": {
            "image/png": "[encoded data removed]",
            "text/plain": [
              "<Figure size 432x288 with 1 Axes>"
            ]
          },
          "metadata": {
            "tags": []
          }
        }
      ]
    },
    {
      "cell_type": "code",
      "metadata": {
        "id": "vCKX3zGKc6xS",
        "colab_type": "code",
        "colab": {}
      },
      "source": [
        "# テストデータで予測値を計算\n",
        "with chainer.using_config('train', False), chainer.using_config('enable_backprop', False):\n",
        "    y_test = net(x_test)"
      ],
      "execution_count": 0,
      "outputs": []
    },
    {
      "cell_type": "code",
      "metadata": {
        "id": "PVYWtEO7dCGK",
        "colab_type": "code",
        "outputId": "cf279e90-d84c-4d2b-a486-07abadda8232",
        "colab": {
          "base_uri": "https://localhost:8080/",
          "height": 36
        }
      },
      "source": [
        "accuracy_test = F.accuracy(x_test, t_test)\n",
        "accuracy_test.array"
      ],
      "execution_count": 0,
      "outputs": [
        {
          "output_type": "execute_result",
          "data": {
            "text/plain": [
              "array(0.35555556, dtype=float32)"
            ]
          },
          "metadata": {
            "tags": []
          },
          "execution_count": 21
        }
      ]
    },
    {
      "cell_type": "code",
      "metadata": {
        "id": "sK_117RcdDqD",
        "colab_type": "code",
        "colab": {}
      },
      "source": [
        "\n",
        "chainer.serializers.save_npz('my_iris.net', net)"
      ],
      "execution_count": 0,
      "outputs": []
    },
    {
      "cell_type": "code",
      "metadata": {
        "id": "z4J7oM1FdHbZ",
        "colab_type": "code",
        "outputId": "998fd13a-f921-47bc-b6a7-aba397d0e401",
        "colab": {
          "base_uri": "https://localhost:8080/",
          "height": 36
        }
      },
      "source": [
        "\n",
        "!ls"
      ],
      "execution_count": 0,
      "outputs": [
        {
          "output_type": "stream",
          "text": [
            "my_iris.net  sample_data\n"
          ],
          "name": "stdout"
        }
      ]
    },
    {
      "cell_type": "code",
      "metadata": {
        "id": "T0QAWllJdKiq",
        "colab_type": "code",
        "colab": {}
      },
      "source": [
        "\n",
        "loaded_net = Sequential(\n",
        "    L.Linear(n_input, n_hidden), F.relu,\n",
        "    L.Linear(n_hidden, n_hidden), F.relu,\n",
        "    L.Linear(n_hidden, n_output)\n",
        ")"
      ],
      "execution_count": 0,
      "outputs": []
    },
    {
      "cell_type": "code",
      "metadata": {
        "id": "qZrDSfSddOkc",
        "colab_type": "code",
        "colab": {}
      },
      "source": [
        "\n",
        "chainer.serializers.load_npz('my_iris.net', loaded_net)"
      ],
      "execution_count": 0,
      "outputs": []
    },
    {
      "cell_type": "code",
      "metadata": {
        "id": "-H9DgNyIdRjA",
        "colab_type": "code",
        "colab": {}
      },
      "source": [
        "\n",
        "with chainer.using_config('train', False), chainer.using_config('enable_backprop', False):\n",
        "    y_test = loaded_net(x_test)"
      ],
      "execution_count": 0,
      "outputs": []
    },
    {
      "cell_type": "code",
      "metadata": {
        "id": "RnXgm3hndUZ4",
        "colab_type": "code",
        "outputId": "4bff6bc3-1d55-4ed4-b11e-f14a039d4f54",
        "colab": {
          "base_uri": "https://localhost:8080/",
          "height": 36
        }
      },
      "source": [
        "np.argmax(y_test[0,:].array)"
      ],
      "execution_count": 0,
      "outputs": [
        {
          "output_type": "execute_result",
          "data": {
            "text/plain": [
              "1"
            ]
          },
          "metadata": {
            "tags": []
          },
          "execution_count": 27
        }
      ]
    },
    {
      "cell_type": "code",
      "metadata": {
        "id": "GkETfABVdWLE",
        "colab_type": "code",
        "colab": {}
      },
      "source": [
        ""
      ],
      "execution_count": 0,
      "outputs": []
    }
  ]
}